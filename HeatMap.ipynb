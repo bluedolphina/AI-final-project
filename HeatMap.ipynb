{
  "nbformat": 4,
  "nbformat_minor": 0,
  "metadata": {
    "colab": {
      "provenance": []
    },
    "kernelspec": {
      "name": "python3",
      "display_name": "Python 3"
    },
    "language_info": {
      "name": "python"
    }
  },
  "cells": [
    {
      "cell_type": "code",
      "execution_count": null,
      "metadata": {
        "id": "XFWscnQX6vqQ"
      },
      "outputs": [],
      "source": [
        "pip install pillow exif"
      ]
    },
    {
      "cell_type": "code",
      "source": [
        "# Extract the GPS data from images\n",
        "from PIL import Image\n",
        "from exif import Image as ExifImage\n",
        "import os\n",
        "\n",
        "def get_gps_coordinates(image_path):\n",
        "    with open(image_path, 'rb') as image_file:\n",
        "        my_image = ExifImage(image_file)\n",
        "        if my_image.has_exif and hasattr(my_image, 'gps_latitude') and hasattr(my_image, 'gps_longitude'):\n",
        "            return my_image.gps_latitude, my_image.gps_longitude\n",
        "        else:\n",
        "            return None, None\n",
        "\n",
        "image_directory = r\"/content/drive/MyDrive/Colab Notebooks/EfficientDet-Lite4/dataset/images\"\n",
        "gps_data = []\n",
        "\n",
        "for filename in os.listdir(image_directory):\n",
        "    if filename.lower().endswith(('.jpg', '.jpeg', '.png')):  # Add other file types if necessary\n",
        "        file_path = os.path.join(image_directory, filename)\n",
        "        lat, lon = get_gps_coordinates(file_path)\n",
        "        if lat and lon:\n",
        "            gps_data.append((lat, lon))\n",
        "\n"
      ],
      "metadata": {
        "id": "kpvEEYte64Cm"
      },
      "execution_count": null,
      "outputs": []
    },
    {
      "cell_type": "code",
      "source": [
        "# save the GPS in Csv file\n",
        "import csv\n",
        "\n",
        "with open('gps_data.csv', 'w', newline='') as file:\n",
        "    writer = csv.writer(file)\n",
        "    writer.writerow(['Latitude', 'Longitude'])\n",
        "    for data in gps_data:\n",
        "        writer.writerow(data)\n"
      ],
      "metadata": {
        "id": "_jdsBKsU7AIR"
      },
      "execution_count": null,
      "outputs": []
    },
    {
      "cell_type": "code",
      "source": [
        "pip install folium\n",
        "\n",
        "def dms_to_decimal(degrees, minutes, seconds):\n",
        "    return degrees + minutes / 60 + seconds / 3600\n"
      ],
      "metadata": {
        "id": "rAA2wIqX7VVl"
      },
      "execution_count": null,
      "outputs": []
    },
    {
      "cell_type": "code",
      "source": [
        "# Changethe format of the GPS data from degrees to decimals\n",
        "import csv\n",
        "from ast import literal_eval\n",
        "\n",
        "def dms_to_decimal(degrees, minutes, seconds):\n",
        "    return degrees + minutes / 60 + seconds / 3600\n",
        "\n",
        "converted_gps_data = []\n",
        "\n",
        "with open('gps_data.csv', 'r') as file:\n",
        "    reader = csv.reader(file)\n",
        "    next(reader)  # Skip header row\n",
        "    for row in reader:\n",
        "        # Parse the DMS strings to tuples\n",
        "        lat_dms = literal_eval(row[0])\n",
        "        lon_dms = literal_eval(row[1])\n",
        "        # Convert DMS to decimal degrees\n",
        "        decimal_lat = dms_to_decimal(*lat_dms)\n",
        "        decimal_lon = dms_to_decimal(*lon_dms)\n",
        "        converted_gps_data.append((decimal_lat, decimal_lon))\n"
      ],
      "metadata": {
        "id": "H_QVMpLY7dBw"
      },
      "execution_count": null,
      "outputs": []
    },
    {
      "cell_type": "code",
      "source": [
        "# Create the heat map\n",
        "import folium\n",
        "from folium.plugins import HeatMap\n",
        "\n",
        "# Calculate the average latitude and longitude for the map center\n",
        "average_latitude = sum(lat for lat, _ in converted_gps_data) / len(converted_gps_data)\n",
        "average_longitude = sum(lon for _, lon in converted_gps_data) / len(converted_gps_data)\n",
        "\n",
        "# Create a base map\n",
        "map = folium.Map(location=[average_latitude, average_longitude], zoom_start=12)\n",
        "\n",
        "# Add HeatMap\n",
        "HeatMap(converted_gps_data).add_to(map)\n",
        "\n",
        "# Save or display the map\n",
        "map.save('heatmap.html')"
      ],
      "metadata": {
        "id": "ptkXUO727kVP"
      },
      "execution_count": null,
      "outputs": []
    }
  ]
}